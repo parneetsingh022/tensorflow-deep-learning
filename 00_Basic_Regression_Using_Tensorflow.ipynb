{
  "nbformat": 4,
  "nbformat_minor": 0,
  "metadata": {
    "colab": {
      "provenance": [],
      "mount_file_id": "1MAglaujQJ0_9OZHTSWjCFLS1XfS98sSY",
      "authorship_tag": "ABX9TyMU32pvk/fXW9Q7zTE2YYw+",
      "include_colab_link": true
    },
    "kernelspec": {
      "name": "python3",
      "display_name": "Python 3"
    },
    "language_info": {
      "name": "python"
    }
  },
  "cells": [
    {
      "cell_type": "markdown",
      "metadata": {
        "id": "view-in-github",
        "colab_type": "text"
      },
      "source": [
        "<a href=\"https://colab.research.google.com/github/parneetsingh022/tensorflow-deep-learning/blob/main/00_Basic_Regression_Using_Tensorflow.ipynb\" target=\"_parent\"><img src=\"https://colab.research.google.com/assets/colab-badge.svg\" alt=\"Open In Colab\"/></a>"
      ]
    },
    {
      "cell_type": "code",
      "source": [
        "import tensorflow as tf\n",
        "print(tf.__version__)"
      ],
      "metadata": {
        "id": "D52Dn8DARUFs",
        "colab": {
          "base_uri": "https://localhost:8080/"
        },
        "outputId": "237b81b0-67ce-425f-a146-2d1cec5c05fa"
      },
      "execution_count": null,
      "outputs": [
        {
          "output_type": "stream",
          "name": "stdout",
          "text": [
            "2.15.0\n"
          ]
        }
      ]
    },
    {
      "cell_type": "markdown",
      "source": [
        "# Creating Data"
      ],
      "metadata": {
        "id": "qgzDR8prS5mT"
      }
    },
    {
      "cell_type": "code",
      "source": [
        "import numpy as np\n",
        "import matplotlib.pyplot as plt\n",
        "\n",
        "'''\n",
        "#create features\n",
        "X = np.array([-7.0,-4.0,-1.0,2.0,5.0,8.0,11.0,14.0])\n",
        "\n",
        "#create features\n",
        "y = np.array([3.0,6.0,9.0,12.0,15.0,18.0,21.0,24.0]) # y = X+10\n",
        "\n",
        "plt.scatter(X,y)'''\n",
        "\n",
        "# creating data with more data points\n",
        "X = np.arange(0,100)\n",
        "y = X+10\n",
        "X,y"
      ],
      "metadata": {
        "colab": {
          "base_uri": "https://localhost:8080/"
        },
        "id": "K-x2WxADS-Rn",
        "outputId": "c82551ae-702f-41e1-a644-1feef8e5ad7c"
      },
      "execution_count": null,
      "outputs": [
        {
          "output_type": "execute_result",
          "data": {
            "text/plain": [
              "(array([ 0,  1,  2,  3,  4,  5,  6,  7,  8,  9, 10, 11, 12, 13, 14, 15, 16,\n",
              "        17, 18, 19, 20, 21, 22, 23, 24, 25, 26, 27, 28, 29, 30, 31, 32, 33,\n",
              "        34, 35, 36, 37, 38, 39, 40, 41, 42, 43, 44, 45, 46, 47, 48, 49, 50,\n",
              "        51, 52, 53, 54, 55, 56, 57, 58, 59, 60, 61, 62, 63, 64, 65, 66, 67,\n",
              "        68, 69, 70, 71, 72, 73, 74, 75, 76, 77, 78, 79, 80, 81, 82, 83, 84,\n",
              "        85, 86, 87, 88, 89, 90, 91, 92, 93, 94, 95, 96, 97, 98, 99]),\n",
              " array([ 10,  11,  12,  13,  14,  15,  16,  17,  18,  19,  20,  21,  22,\n",
              "         23,  24,  25,  26,  27,  28,  29,  30,  31,  32,  33,  34,  35,\n",
              "         36,  37,  38,  39,  40,  41,  42,  43,  44,  45,  46,  47,  48,\n",
              "         49,  50,  51,  52,  53,  54,  55,  56,  57,  58,  59,  60,  61,\n",
              "         62,  63,  64,  65,  66,  67,  68,  69,  70,  71,  72,  73,  74,\n",
              "         75,  76,  77,  78,  79,  80,  81,  82,  83,  84,  85,  86,  87,\n",
              "         88,  89,  90,  91,  92,  93,  94,  95,  96,  97,  98,  99, 100,\n",
              "        101, 102, 103, 104, 105, 106, 107, 108, 109]))"
            ]
          },
          "metadata": {},
          "execution_count": 2
        }
      ]
    },
    {
      "cell_type": "code",
      "source": [
        "y == X + 10"
      ],
      "metadata": {
        "colab": {
          "base_uri": "https://localhost:8080/"
        },
        "id": "JBBPQePFTqOg",
        "outputId": "1bb5b5e4-e9e9-4746-8dd7-8d5744aa107f"
      },
      "execution_count": null,
      "outputs": [
        {
          "output_type": "execute_result",
          "data": {
            "text/plain": [
              "array([ True,  True,  True,  True,  True,  True,  True,  True,  True,\n",
              "        True,  True,  True,  True,  True,  True,  True,  True,  True,\n",
              "        True,  True,  True,  True,  True,  True,  True,  True,  True,\n",
              "        True,  True,  True,  True,  True,  True,  True,  True,  True,\n",
              "        True,  True,  True,  True,  True,  True,  True,  True,  True,\n",
              "        True,  True,  True,  True,  True,  True,  True,  True,  True,\n",
              "        True,  True,  True,  True,  True,  True,  True,  True,  True,\n",
              "        True,  True,  True,  True,  True,  True,  True,  True,  True,\n",
              "        True,  True,  True,  True,  True,  True,  True,  True,  True,\n",
              "        True,  True,  True,  True,  True,  True,  True,  True,  True,\n",
              "        True,  True,  True,  True,  True,  True,  True,  True,  True,\n",
              "        True])"
            ]
          },
          "metadata": {},
          "execution_count": 3
        }
      ]
    },
    {
      "cell_type": "markdown",
      "source": [
        "# Shape of our input and output\n",
        "Our current input and output shape is 8 and 8"
      ],
      "metadata": {
        "id": "O2UtgRW3UDoc"
      }
    },
    {
      "cell_type": "code",
      "source": [
        "input_shape = X.shape\n",
        "output_shape = y.shape\n",
        "\n",
        "input_shape, output_shape"
      ],
      "metadata": {
        "colab": {
          "base_uri": "https://localhost:8080/"
        },
        "id": "fslK9AFFT6A8",
        "outputId": "40a3db40-17ee-42b1-ab72-268e6fddf898"
      },
      "execution_count": null,
      "outputs": [
        {
          "output_type": "execute_result",
          "data": {
            "text/plain": [
              "((100,), (100,))"
            ]
          },
          "metadata": {},
          "execution_count": 4
        }
      ]
    },
    {
      "cell_type": "code",
      "source": [
        "# Turn our NumPy arrays into tensors\n",
        "X_tens = tf.constant(X)\n",
        "y_tens = tf.constant(y)\n",
        "\n",
        "X_tens,y_tens"
      ],
      "metadata": {
        "colab": {
          "base_uri": "https://localhost:8080/"
        },
        "id": "jF0Y6iYZU2Hu",
        "outputId": "bc35212d-e261-4988-8654-7326f5abe01d"
      },
      "execution_count": null,
      "outputs": [
        {
          "output_type": "execute_result",
          "data": {
            "text/plain": [
              "(<tf.Tensor: shape=(100,), dtype=int64, numpy=\n",
              " array([ 0,  1,  2,  3,  4,  5,  6,  7,  8,  9, 10, 11, 12, 13, 14, 15, 16,\n",
              "        17, 18, 19, 20, 21, 22, 23, 24, 25, 26, 27, 28, 29, 30, 31, 32, 33,\n",
              "        34, 35, 36, 37, 38, 39, 40, 41, 42, 43, 44, 45, 46, 47, 48, 49, 50,\n",
              "        51, 52, 53, 54, 55, 56, 57, 58, 59, 60, 61, 62, 63, 64, 65, 66, 67,\n",
              "        68, 69, 70, 71, 72, 73, 74, 75, 76, 77, 78, 79, 80, 81, 82, 83, 84,\n",
              "        85, 86, 87, 88, 89, 90, 91, 92, 93, 94, 95, 96, 97, 98, 99])>,\n",
              " <tf.Tensor: shape=(100,), dtype=int64, numpy=\n",
              " array([ 10,  11,  12,  13,  14,  15,  16,  17,  18,  19,  20,  21,  22,\n",
              "         23,  24,  25,  26,  27,  28,  29,  30,  31,  32,  33,  34,  35,\n",
              "         36,  37,  38,  39,  40,  41,  42,  43,  44,  45,  46,  47,  48,\n",
              "         49,  50,  51,  52,  53,  54,  55,  56,  57,  58,  59,  60,  61,\n",
              "         62,  63,  64,  65,  66,  67,  68,  69,  70,  71,  72,  73,  74,\n",
              "         75,  76,  77,  78,  79,  80,  81,  82,  83,  84,  85,  86,  87,\n",
              "         88,  89,  90,  91,  92,  93,  94,  95,  96,  97,  98,  99, 100,\n",
              "        101, 102, 103, 104, 105, 106, 107, 108, 109])>)"
            ]
          },
          "metadata": {},
          "execution_count": 5
        }
      ]
    },
    {
      "cell_type": "code",
      "source": [
        "X_tens_converted = tf.expand_dims(X, axis=-1)\n",
        "X_tens_converted"
      ],
      "metadata": {
        "colab": {
          "base_uri": "https://localhost:8080/"
        },
        "id": "qj4IInsh1BqK",
        "outputId": "67a8dce9-33c3-46fe-93db-2866ac7bb315"
      },
      "execution_count": null,
      "outputs": [
        {
          "output_type": "execute_result",
          "data": {
            "text/plain": [
              "<tf.Tensor: shape=(100, 1), dtype=int64, numpy=\n",
              "array([[ 0],\n",
              "       [ 1],\n",
              "       [ 2],\n",
              "       [ 3],\n",
              "       [ 4],\n",
              "       [ 5],\n",
              "       [ 6],\n",
              "       [ 7],\n",
              "       [ 8],\n",
              "       [ 9],\n",
              "       [10],\n",
              "       [11],\n",
              "       [12],\n",
              "       [13],\n",
              "       [14],\n",
              "       [15],\n",
              "       [16],\n",
              "       [17],\n",
              "       [18],\n",
              "       [19],\n",
              "       [20],\n",
              "       [21],\n",
              "       [22],\n",
              "       [23],\n",
              "       [24],\n",
              "       [25],\n",
              "       [26],\n",
              "       [27],\n",
              "       [28],\n",
              "       [29],\n",
              "       [30],\n",
              "       [31],\n",
              "       [32],\n",
              "       [33],\n",
              "       [34],\n",
              "       [35],\n",
              "       [36],\n",
              "       [37],\n",
              "       [38],\n",
              "       [39],\n",
              "       [40],\n",
              "       [41],\n",
              "       [42],\n",
              "       [43],\n",
              "       [44],\n",
              "       [45],\n",
              "       [46],\n",
              "       [47],\n",
              "       [48],\n",
              "       [49],\n",
              "       [50],\n",
              "       [51],\n",
              "       [52],\n",
              "       [53],\n",
              "       [54],\n",
              "       [55],\n",
              "       [56],\n",
              "       [57],\n",
              "       [58],\n",
              "       [59],\n",
              "       [60],\n",
              "       [61],\n",
              "       [62],\n",
              "       [63],\n",
              "       [64],\n",
              "       [65],\n",
              "       [66],\n",
              "       [67],\n",
              "       [68],\n",
              "       [69],\n",
              "       [70],\n",
              "       [71],\n",
              "       [72],\n",
              "       [73],\n",
              "       [74],\n",
              "       [75],\n",
              "       [76],\n",
              "       [77],\n",
              "       [78],\n",
              "       [79],\n",
              "       [80],\n",
              "       [81],\n",
              "       [82],\n",
              "       [83],\n",
              "       [84],\n",
              "       [85],\n",
              "       [86],\n",
              "       [87],\n",
              "       [88],\n",
              "       [89],\n",
              "       [90],\n",
              "       [91],\n",
              "       [92],\n",
              "       [93],\n",
              "       [94],\n",
              "       [95],\n",
              "       [96],\n",
              "       [97],\n",
              "       [98],\n",
              "       [99]])>"
            ]
          },
          "metadata": {},
          "execution_count": 6
        }
      ]
    },
    {
      "cell_type": "markdown",
      "source": [
        "## Steps in modelling with Tensorflow\n",
        "\n",
        "1. ***Create a model*** - define the input and output layers, as well as the hidden layers of a deep learning model.\n",
        "\n",
        "2. ***Compiling a model*** - define the loss function (in other words, the function which tells our model how wrong it is) and the optimizer (tells our model how to improve the patterns its learning) and evaluation metrics (what we can use to interpret the performance of our model)\n",
        "\n",
        "3. ***Fitting a model*** - letting the model to try to find patterns between X & y (features and labels)\n",
        "\n",
        "\n",
        "We are using (MAE) Mean absolute error in following example for loss function\n",
        "\n",
        "$\\text{MAE}=\\frac{\\sum_{i=1}^n|y_i-x_i|}{n}=\\frac{\\sum_{i=1}^n|e_i|}{n}$"
      ],
      "metadata": {
        "id": "U9xaY6dmV_Nk"
      }
    },
    {
      "cell_type": "code",
      "source": [
        "# Set random seed to have reproducibility\n",
        "tf.random.set_seed(42)\n",
        "\n",
        "# 1. Create a model using the Sequential API\n",
        "model = tf.keras.Sequential([\n",
        "    tf.keras.layers.Dense(1),\n",
        "])\n",
        "\n",
        "# 2. Compile the model\n",
        "model.compile(loss=tf.keras.losses.mae, # mae is mean absolute error\n",
        "              optimizer=tf.keras.optimizers.SGD(), # sgd is short for stochastic gradient descent\n",
        "              metrics=[\"mae\",\"accuracy\"])\n",
        "\n",
        "#3. Fit the model\n",
        "model.fit(X_tens_converted,y, epochs=5)"
      ],
      "metadata": {
        "colab": {
          "base_uri": "https://localhost:8080/"
        },
        "id": "Mpe-8KNNV4bJ",
        "outputId": "9c44b19c-a838-4f61-f12e-8c6423b1a9c3"
      },
      "execution_count": 33,
      "outputs": [
        {
          "output_type": "stream",
          "name": "stdout",
          "text": [
            "Epoch 1/5\n",
            "4/4 [==============================] - 0s 5ms/step - loss: 51.4996 - mae: 51.4996 - accuracy: 0.0000e+00\n",
            "Epoch 2/5\n",
            "4/4 [==============================] - 0s 5ms/step - loss: 15.1532 - mae: 15.1532 - accuracy: 0.0000e+00\n",
            "Epoch 3/5\n",
            "4/4 [==============================] - 0s 4ms/step - loss: 13.6193 - mae: 13.6193 - accuracy: 0.0000e+00\n",
            "Epoch 4/5\n",
            "4/4 [==============================] - 0s 4ms/step - loss: 10.0937 - mae: 10.0937 - accuracy: 0.0000e+00\n",
            "Epoch 5/5\n",
            "4/4 [==============================] - 0s 4ms/step - loss: 10.3482 - mae: 10.3482 - accuracy: 0.0000e+00\n"
          ]
        },
        {
          "output_type": "execute_result",
          "data": {
            "text/plain": [
              "<keras.src.callbacks.History at 0x7d6ae3e76860>"
            ]
          },
          "metadata": {},
          "execution_count": 33
        }
      ]
    },
    {
      "cell_type": "code",
      "source": [
        "# making prediction using our model\n",
        "model.predict([17.0])"
      ],
      "metadata": {
        "colab": {
          "base_uri": "https://localhost:8080/"
        },
        "id": "YRPHu-1I1dXp",
        "outputId": "5d0e917b-c2f1-4dfa-bb8c-869c6390daea"
      },
      "execution_count": 34,
      "outputs": [
        {
          "output_type": "stream",
          "name": "stdout",
          "text": [
            "1/1 [==============================] - 0s 73ms/step\n"
          ]
        },
        {
          "output_type": "execute_result",
          "data": {
            "text/plain": [
              "array([[18.859043]], dtype=float32)"
            ]
          },
          "metadata": {},
          "execution_count": 34
        }
      ]
    },
    {
      "cell_type": "markdown",
      "source": [
        "# Improving our model\n",
        "\n",
        "We can improve our model by altering the steps we took to create a model.\n",
        "\n",
        "1. **Creating a model** - we might add more layers, increase the number of hidden units (all called neurons) within each of the hidden layers, change the activation function of each layer.\n",
        "\n",
        "2. **Compiling a model** - here we might change the optimization function or perhaps the **learning rate** (hyper parameters) of the optimization function\n",
        "\n",
        "3. **Fitting a model** - here we might fit a model for more **epochs** (leave it training for longer) or on more data (give the model more examples to learn from)\n"
      ],
      "metadata": {
        "id": "Zy-CiDRz26pg"
      }
    },
    {
      "cell_type": "code",
      "source": [
        "#improving the model\n",
        "# Set random seed to have reproducibility\n",
        "tf.random.set_seed(42)\n",
        "\n",
        "# 1. Create a model using the Sequential API\n",
        "model = tf.keras.Sequential([\n",
        "    tf.keras.layers.Dense(500, activation=\"relu\"),\n",
        "    tf.keras.layers.Dense(100, activation=\"relu\"),\n",
        "    tf.keras.layers.Dense(100, activation=\"relu\"),\n",
        "    tf.keras.layers.Dense(1),\n",
        "])\n",
        "\n",
        "# 2. Compile the model\n",
        "model.compile(loss=tf.keras.losses.mse, # mae is mean absolute error\n",
        "              optimizer=tf.keras.optimizers.Adam(learning_rate=0.0001), # sgd is short for stochastic gradient descent\n",
        "              metrics=[\"mse\"])\n",
        "\n",
        "#3. Fit the model (this time we'll train for longer time)\n",
        "model.fit(X_tens_converted,y, epochs=200, verbose=0)"
      ],
      "metadata": {
        "colab": {
          "base_uri": "https://localhost:8080/"
        },
        "id": "kDgtsg6W2tX2",
        "outputId": "b4df41cf-bc14-45af-c7c9-c022e44914a6"
      },
      "execution_count": 36,
      "outputs": [
        {
          "output_type": "execute_result",
          "data": {
            "text/plain": [
              "<keras.src.callbacks.History at 0x7d6ae359bbb0>"
            ]
          },
          "metadata": {},
          "execution_count": 36
        }
      ]
    },
    {
      "cell_type": "markdown",
      "source": [
        "### Parameters\n",
        "* Total params: total number of parameters in the model.\n",
        "* Trainable parameters - these are the parameters (patterns) the model can update as it trains.\n",
        "* Non-trainable parameters - these parameters aren't updated during training (this is typical when you bring in already learnt patterns or parameters from other models\n",
        "during **transfer learning**)\n",
        "\n"
      ],
      "metadata": {
        "id": "CGBpnyx9udRT"
      }
    },
    {
      "cell_type": "code",
      "source": [
        "model.summary()"
      ],
      "metadata": {
        "colab": {
          "base_uri": "https://localhost:8080/"
        },
        "id": "lHe2mO2LHP2A",
        "outputId": "c4abe886-dbb2-47f7-aa57-f121357392b9"
      },
      "execution_count": 37,
      "outputs": [
        {
          "output_type": "stream",
          "name": "stdout",
          "text": [
            "Model: \"sequential_5\"\n",
            "_________________________________________________________________\n",
            " Layer (type)                Output Shape              Param #   \n",
            "=================================================================\n",
            " dense_14 (Dense)            (None, 500)               1000      \n",
            "                                                                 \n",
            " dense_15 (Dense)            (None, 100)               50100     \n",
            "                                                                 \n",
            " dense_16 (Dense)            (None, 100)               10100     \n",
            "                                                                 \n",
            " dense_17 (Dense)            (None, 1)                 101       \n",
            "                                                                 \n",
            "=================================================================\n",
            "Total params: 61301 (239.46 KB)\n",
            "Trainable params: 61301 (239.46 KB)\n",
            "Non-trainable params: 0 (0.00 Byte)\n",
            "_________________________________________________________________\n"
          ]
        }
      ]
    },
    {
      "cell_type": "markdown",
      "source": [
        "### The 3 sets...\n",
        "* Training set - the model learns from this data, which typically 70-80% of the total data you have available.\n",
        "* Validation set - the model gets tuned on this data, which is typically 10-15% of the data available.\n",
        "* Test set - the model gets eveluated on this data to test what is has learned, this set is typically 10-15 of the total data available."
      ],
      "metadata": {
        "id": "e38pGkzwoRLz"
      }
    },
    {
      "cell_type": "code",
      "source": [
        "# check the length of how many samples we have\n",
        "len(X)"
      ],
      "metadata": {
        "colab": {
          "base_uri": "https://localhost:8080/"
        },
        "id": "vxVVuD40oub7",
        "outputId": "bff3580f-3eae-4c5c-f491-46104f24810f"
      },
      "execution_count": 38,
      "outputs": [
        {
          "output_type": "execute_result",
          "data": {
            "text/plain": [
              "100"
            ]
          },
          "metadata": {},
          "execution_count": 38
        }
      ]
    },
    {
      "cell_type": "code",
      "source": [
        "# Split the data into train and test sets\n",
        "from sklearn.model_selection import train_test_split\n",
        "X_train, X_test, y_train, y_test = train_test_split(X, y, test_size=0.2, random_state=42)\n",
        "X_train = tf.expand_dims(X_train, axis=-1)\n",
        "X_test = tf.expand_dims(X_test, axis=-1)\n",
        "\n",
        "X_train[:10]"
      ],
      "metadata": {
        "colab": {
          "base_uri": "https://localhost:8080/"
        },
        "id": "Zxz6YFshpjVY",
        "outputId": "24fc50da-a0d5-4111-cae3-8a5d08172ccc"
      },
      "execution_count": 39,
      "outputs": [
        {
          "output_type": "execute_result",
          "data": {
            "text/plain": [
              "<tf.Tensor: shape=(10, 1), dtype=int64, numpy=\n",
              "array([[55],\n",
              "       [88],\n",
              "       [26],\n",
              "       [42],\n",
              "       [69],\n",
              "       [15],\n",
              "       [40],\n",
              "       [96],\n",
              "       [ 9],\n",
              "       [72]])>"
            ]
          },
          "metadata": {},
          "execution_count": 39
        }
      ]
    },
    {
      "cell_type": "code",
      "source": [
        "\n",
        "\n",
        "tf.random.set_seed(42)\n",
        "\n",
        "# 1. Create a model using the Sequential API\n",
        "model3 = tf.keras.Sequential([\n",
        "\n",
        "    tf.keras.layers.Dense(500, input_shape=(1,), activation=\"relu\"),\n",
        "    tf.keras.layers.Dense(100, activation=\"relu\"),\n",
        "    tf.keras.layers.Dense(100, activation=\"relu\"),\n",
        "    tf.keras.layers.Dense(1),\n",
        "])\n",
        "\n",
        "# 2. Compile the model\n",
        "model3.compile(loss=tf.keras.losses.mse, # mae is mean absolute error\n",
        "              optimizer=tf.keras.optimizers.Adam(learning_rate=0.0001), # sgd is short for stochastic gradient descent\n",
        "              metrics=[\"mse\"])\n",
        "\n",
        "#3. Fit the model (this time we'll train for longer time)\n",
        "model3.fit(X_tens_converted,y, epochs=1000, verbose=0)"
      ],
      "metadata": {
        "colab": {
          "base_uri": "https://localhost:8080/"
        },
        "id": "H3m2ZrnfqHaq",
        "outputId": "e54d1cdc-bbde-4b6d-e0a6-926a9061bd2a"
      },
      "execution_count": 41,
      "outputs": [
        {
          "output_type": "execute_result",
          "data": {
            "text/plain": [
              "<keras.src.callbacks.History at 0x7d6ae3ae7e50>"
            ]
          },
          "metadata": {},
          "execution_count": 41
        }
      ]
    },
    {
      "cell_type": "code",
      "source": [
        "model3.evaluate(X_test,y_test)"
      ],
      "metadata": {
        "colab": {
          "base_uri": "https://localhost:8080/"
        },
        "id": "7ZpGeLeiq8vl",
        "outputId": "09356b27-f38e-413e-f14d-386768c80d9e"
      },
      "execution_count": 42,
      "outputs": [
        {
          "output_type": "stream",
          "name": "stdout",
          "text": [
            "1/1 [==============================] - 0s 130ms/step - loss: 0.0720 - mse: 0.0720\n"
          ]
        },
        {
          "output_type": "execute_result",
          "data": {
            "text/plain": [
              "[0.07202549278736115, 0.07202549278736115]"
            ]
          },
          "metadata": {},
          "execution_count": 42
        }
      ]
    },
    {
      "cell_type": "code",
      "source": [
        "model3.predict([100])"
      ],
      "metadata": {
        "colab": {
          "base_uri": "https://localhost:8080/"
        },
        "id": "djqjT3b4sWEw",
        "outputId": "96c447ad-aa8d-455a-c66a-bb8bb6377ef6"
      },
      "execution_count": 43,
      "outputs": [
        {
          "output_type": "stream",
          "name": "stdout",
          "text": [
            "1/1 [==============================] - 0s 124ms/step\n"
          ]
        },
        {
          "output_type": "execute_result",
          "data": {
            "text/plain": [
              "array([[110.07164]], dtype=float32)"
            ]
          },
          "metadata": {},
          "execution_count": 43
        }
      ]
    },
    {
      "cell_type": "markdown",
      "source": [
        "# Looking at prams"
      ],
      "metadata": {
        "id": "ldLh2kuOF71X"
      }
    },
    {
      "cell_type": "code",
      "source": [
        "test_model = tf.keras.Sequential([\n",
        "    tf.keras.layers.Dense(10,input_shape=[1], name=\"input_layer\"),\n",
        "    tf.keras.layers.Dense(1, name=\"output_layer\")\n",
        "], name=\"Test Model\")\n",
        "\n",
        "test_model.summary()"
      ],
      "metadata": {
        "colab": {
          "base_uri": "https://localhost:8080/"
        },
        "id": "yWfA2M9TGE0N",
        "outputId": "6bb09d8d-6d6f-455b-f245-2806c15f3b85"
      },
      "execution_count": 44,
      "outputs": [
        {
          "output_type": "stream",
          "name": "stdout",
          "text": [
            "Model: \"Test Model\"\n",
            "_________________________________________________________________\n",
            " Layer (type)                Output Shape              Param #   \n",
            "=================================================================\n",
            " input_layer (Dense)         (None, 10)                20        \n",
            "                                                                 \n",
            " output_layer (Dense)        (None, 1)                 11        \n",
            "                                                                 \n",
            "=================================================================\n",
            "Total params: 31 (124.00 Byte)\n",
            "Trainable params: 31 (124.00 Byte)\n",
            "Non-trainable params: 0 (0.00 Byte)\n",
            "_________________________________________________________________\n"
          ]
        }
      ]
    },
    {
      "cell_type": "code",
      "source": [
        "from tensorflow.keras.utils import plot_model\n",
        "\n",
        "plot_model(model=model3,show_shapes=True)"
      ],
      "metadata": {
        "colab": {
          "base_uri": "https://localhost:8080/",
          "height": 533
        },
        "id": "JDx1B3YgGZXk",
        "outputId": "a0a02dc2-b01d-4bf6-fa00-a00b4accd0bf"
      },
      "execution_count": 45,
      "outputs": [
        {
          "output_type": "execute_result",
          "data": {
            "image/png": "[encoded data removed]",
            "text/plain": [
              "<IPython.core.display.Image object>"
            ]
          },
          "metadata": {},
          "execution_count": 45
        }
      ]
    },
    {
      "cell_type": "markdown",
      "source": [
        "### Visualizing our model's prediction\n",
        "\n",
        "To visualize prediction, it's a good idea to plot them against the ground trugh labels."
      ],
      "metadata": {
        "id": "V76ep7v_NTr7"
      }
    },
    {
      "cell_type": "code",
      "source": [
        "y_pred = model3.predict(X_test)"
      ],
      "metadata": {
        "colab": {
          "base_uri": "https://localhost:8080/"
        },
        "id": "jO6K7VkfNMBx",
        "outputId": "4c936d0e-7eb6-4256-adc6-e5f67abf4d4c"
      },
      "execution_count": 46,
      "outputs": [
        {
          "output_type": "stream",
          "name": "stdout",
          "text": [
            "1/1 [==============================] - 0s 80ms/step\n"
          ]
        }
      ]
    },
    {
      "cell_type": "code",
      "source": [
        "# Let's create a plotting function\n",
        "def plot_predictions(train_data=X_train,\n",
        "                     train_labels=y_train,\n",
        "                     test_data=X_test,\n",
        "                     test_labels=y_test,\n",
        "                     predictions=y_pred):\n",
        "  \"\"\"\n",
        "  Plots training data, test data and compare predictions to ground truth labels\n",
        "  \"\"\"\n",
        "  plt.figure(figsize=(10,7))\n",
        "  # Plot training data in blue\n",
        "  plt.scatter(train_data, train_labels,c=\"b\", label=\"Training data\")\n",
        "  # Plot testing data in green\n",
        "  plt.scatter(test_data, test_labels,c=\"g\", label=\"Testing data\")\n",
        "  # Plot model's predictions in red\n",
        "  plt.scatter(test_data, predictions, c=\"r\", label=\"Predictions\")\n",
        "  plt.legend();\n"
      ],
      "metadata": {
        "id": "6sy6lN-JNvFW"
      },
      "execution_count": 47,
      "outputs": []
    },
    {
      "cell_type": "code",
      "source": [
        "plot_predictions()"
      ],
      "metadata": {
        "colab": {
          "base_uri": "https://localhost:8080/",
          "height": 599
        },
        "id": "rrEGTc90OTyC",
        "outputId": "5d79d592-fe5d-478d-c6e5-e745414604d2"
      },
      "execution_count": 48,
      "outputs": [
        {
          "output_type": "display_data",
          "data": {
            "text/plain": [
              "<Figure size 1000x700 with 1 Axes>"
            ],
            "image/png": "[encoded data removed]"
          },
          "metadata": {}
        }
      ]
    },
    {
      "cell_type": "markdown",
      "source": [
        "### Evaluating our model's predictions with regression evaluation metrics\n",
        "\n",
        "Depending on the problem you're working on, there will be different evaluation metrics to evaluate your model's performance.\n",
        "\n",
        "Since we're working on a regression, two of the main metrics:\n",
        "* MAE- mean absolute error\n",
        "$$\\text{MAE}=\\frac{∑^n_{i=1} |Y_i - \\hat{Y}_i|}{n}$$\n",
        "\n",
        "* MSE - mean squared error (Use when larger errors are more significant than smaller errors)\n",
        "$$\\text{MSE}=\\frac{∑^n_{i=1} (Y_i - \\hat{Y}_i)^2}{n}$$\n",
        "\n",
        "* Huber (Combination of MSE and MAE. Less sensitive to outliers than MSE)\n",
        "$$\n",
        "  \\begin{equation}\n",
        "    L_{\\delta}(Y,\\hat{Y}) =\n",
        "    \\begin{cases}\n",
        "        \\frac{1}{2}(Y-\\hat{Y})^2, & \\text{for}|Y - \\hat{Y}| \\leq \\delta \\\\\n",
        "        \\delta|Y-\\hat{Y}| - \\frac{1}{2}\\delta^2 & \\text{otherwise}\n",
        "    \\end{cases}\n",
        "\\end{equation}\n",
        "$$"
      ],
      "metadata": {
        "id": "wBWEBxopPU_m"
      }
    },
    {
      "cell_type": "code",
      "source": [
        "# Evaluate the model on the test set\n",
        "model.evaluate(X_test, y_test)"
      ],
      "metadata": {
        "colab": {
          "base_uri": "https://localhost:8080/"
        },
        "id": "GUeF1BNXPUNQ",
        "outputId": "b32ca23c-f767-4cb1-e680-9fe0b6e07f97"
      },
      "execution_count": 49,
      "outputs": [
        {
          "output_type": "stream",
          "name": "stdout",
          "text": [
            "1/1 [==============================] - 0s 148ms/step - loss: 22.9091 - mse: 22.9091\n"
          ]
        },
        {
          "output_type": "execute_result",
          "data": {
            "text/plain": [
              "[22.90907859802246, 22.90907859802246]"
            ]
          },
          "metadata": {},
          "execution_count": 49
        }
      ]
    },
    {
      "cell_type": "code",
      "source": [
        "# prompt: print shape of y_test and y_pred\n",
        "\n",
        "print(y_test.shape, y_pred.shape)\n"
      ],
      "metadata": {
        "colab": {
          "base_uri": "https://localhost:8080/"
        },
        "id": "rt-MaYKxTlK3",
        "outputId": "a2b64515-9fd4-487a-eb6b-b19d414b700f"
      },
      "execution_count": 50,
      "outputs": [
        {
          "output_type": "stream",
          "name": "stdout",
          "text": [
            "(20,) (20, 1)\n"
          ]
        }
      ]
    },
    {
      "cell_type": "code",
      "source": [
        "# Calculate the mean absolute error\n",
        "mae = tf.metrics.mean_absolute_error(\n",
        "    y_true=y_test,\n",
        "    y_pred=tf.squeeze(y_pred)\n",
        ")\n",
        "mae"
      ],
      "metadata": {
        "colab": {
          "base_uri": "https://localhost:8080/"
        },
        "id": "nWa8Dxl1S2oN",
        "outputId": "2357fa48-8912-4536-a22c-cf0622fd6b47"
      },
      "execution_count": 51,
      "outputs": [
        {
          "output_type": "execute_result",
          "data": {
            "text/plain": [
              "<tf.Tensor: shape=(), dtype=float32, numpy=0.079945944>"
            ]
          },
          "metadata": {},
          "execution_count": 51
        }
      ]
    },
    {
      "cell_type": "code",
      "source": [
        "# calculating the mean squared error\n",
        "\n",
        "mse = tf.metrics.mean_squared_error(\n",
        "    y_true=y_test,\n",
        "    y_pred=tf.squeeze(y_pred)\n",
        ")\n",
        "\n",
        "mse"
      ],
      "metadata": {
        "colab": {
          "base_uri": "https://localhost:8080/"
        },
        "id": "F4kEWsb0Txoj",
        "outputId": "fae0a64a-2357-402b-b0cb-a5dcc1f0fec6"
      },
      "execution_count": 52,
      "outputs": [
        {
          "output_type": "execute_result",
          "data": {
            "text/plain": [
              "<tf.Tensor: shape=(), dtype=float32, numpy=0.07202559>"
            ]
          },
          "metadata": {},
          "execution_count": 52
        }
      ]
    },
    {
      "cell_type": "code",
      "source": [
        "def mae(y_true,y_pred):\n",
        "    return tf.metrics.mean_absolute_error(\n",
        "      y_true=y_test,\n",
        "      y_pred=tf.squeeze(y_pred)\n",
        "    )\n",
        "\n",
        "def mse(y_true,y_pred):\n",
        "    return tf.metrics.mean_squared_error(\n",
        "      y_true=y_test,\n",
        "      y_pred=tf.squeeze(y_pred)\n",
        "    )"
      ],
      "metadata": {
        "id": "uysCJFEfUnl4"
      },
      "execution_count": 53,
      "outputs": []
    },
    {
      "cell_type": "markdown",
      "source": [
        "### Running experiments to improve our model\n",
        "\n",
        "1. Get more data\n",
        "2. Make your model larger (using a more complex model) - this might come in the form of more layers or more hidden units in each layer.\n",
        "3. Train for longer - give your model more of a chance to find patterns in the data.\n",
        "\n",
        "### Tracking your experiments\n",
        "One really good habit in machine learning modelling is to track the results of your experiments. And when doing so, it can be tedious if you're running lots of experiments.\n",
        "\n",
        "Luckily, there are tools to help us!\n",
        "\n",
        "📖**Resource**: As you build more models, you'll want to look into using:\n",
        "* TensorBoard - a component of the tensorflow liberary to help track modelling experiments\n",
        "* Weights & Biases - a tool for tracking all kinds of machine learning experiments"
      ],
      "metadata": {
        "id": "6feA8ygRBtVX"
      }
    },
    {
      "cell_type": "markdown",
      "source": [
        "### Saving our models"
      ],
      "metadata": {
        "id": "g9YOTsqIGiAi"
      }
    },
    {
      "cell_type": "markdown",
      "source": [
        "### Saving our models\n",
        "Saving our models allows us to use them outside of Google Colab.\n",
        "\n",
        "There are two main formats we can save our model's too:\n",
        "1. The SavedModel format\n",
        "2. The HDF5 format"
      ],
      "metadata": {
        "id": "rsu_S0wSGoRD"
      }
    },
    {
      "cell_type": "code",
      "source": [
        "# Saving model in SavedModel format (we get a folder format)\n",
        "model3.save(\"models/model3\")"
      ],
      "metadata": {
        "id": "HfYDSPpJYy3U"
      },
      "execution_count": null,
      "outputs": []
    },
    {
      "cell_type": "code",
      "source": [
        "#Saving model in HDF5 format (we only get a single '.h5' file)\n",
        "model3.save(\"models/model3.h5\")"
      ],
      "metadata": {
        "colab": {
          "base_uri": "https://localhost:8080/"
        },
        "id": "w0kJAwSFalpj",
        "outputId": "4a927999-26ba-4ebf-ee38-24c02fe4157f"
      },
      "execution_count": null,
      "outputs": [
        {
          "output_type": "stream",
          "name": "stderr",
          "text": [
            "/usr/local/lib/python3.10/dist-packages/keras/src/engine/training.py:3103: UserWarning: You are saving your model as an HDF5 file via `model.save()`. This file format is considered legacy. We recommend using instead the native Keras format, e.g. `model.save('my_model.keras')`.\n",
            "  saving_api.save_model(\n"
          ]
        }
      ]
    },
    {
      "cell_type": "markdown",
      "source": [
        "## Loading in a saved model"
      ],
      "metadata": {
        "id": "EnPOyg2DaIXe"
      }
    },
    {
      "cell_type": "code",
      "source": [
        "# Load in the SavedModel format model\n",
        "loaded_model = tf.keras.models.load_model(\"models/model3\")\n",
        "loaded_model.predict([3])"
      ],
      "metadata": {
        "colab": {
          "base_uri": "https://localhost:8080/"
        },
        "id": "uDFW_pIebEbM",
        "outputId": "9f2f430f-c0ff-42f4-b171-edbf00835ddb"
      },
      "execution_count": null,
      "outputs": [
        {
          "output_type": "stream",
          "name": "stderr",
          "text": [
            "WARNING:tensorflow:5 out of the last 8 calls to <function Model.make_predict_function.<locals>.predict_function at 0x7d6ae3d328c0> triggered tf.function retracing. Tracing is expensive and the excessive number of tracings could be due to (1) creating @tf.function repeatedly in a loop, (2) passing tensors with different shapes, (3) passing Python objects instead of tensors. For (1), please define your @tf.function outside of the loop. For (2), @tf.function has reduce_retracing=True option that can avoid unnecessary retracing. For (3), please refer to https://www.tensorflow.org/guide/function#controlling_retracing and https://www.tensorflow.org/api_docs/python/tf/function for  more details.\n"
          ]
        },
        {
          "output_type": "stream",
          "name": "stdout",
          "text": [
            "1/1 [==============================] - 0s 125ms/step\n"
          ]
        },
        {
          "output_type": "execute_result",
          "data": {
            "text/plain": [
              "array([[12.539217]], dtype=float32)"
            ]
          },
          "metadata": {},
          "execution_count": 29
        }
      ]
    },
    {
      "cell_type": "code",
      "source": [
        "# Load in the HDF5 model format\n",
        "loaded_model_h5 = tf.keras.models.load_model(\"models/model3.h5\")\n",
        "loaded_model_h5.predict([3])"
      ],
      "metadata": {
        "colab": {
          "base_uri": "https://localhost:8080/"
        },
        "id": "cIPHAWP1bXMu",
        "outputId": "26183fd5-df62-4b38-e78f-740d5f371bba"
      },
      "execution_count": null,
      "outputs": [
        {
          "output_type": "stream",
          "name": "stderr",
          "text": [
            "WARNING:tensorflow:6 out of the last 9 calls to <function Model.make_predict_function.<locals>.predict_function at 0x7d6ae3d253f0> triggered tf.function retracing. Tracing is expensive and the excessive number of tracings could be due to (1) creating @tf.function repeatedly in a loop, (2) passing tensors with different shapes, (3) passing Python objects instead of tensors. For (1), please define your @tf.function outside of the loop. For (2), @tf.function has reduce_retracing=True option that can avoid unnecessary retracing. For (3), please refer to https://www.tensorflow.org/guide/function#controlling_retracing and https://www.tensorflow.org/api_docs/python/tf/function for  more details.\n"
          ]
        },
        {
          "output_type": "stream",
          "name": "stdout",
          "text": [
            "1/1 [==============================] - 0s 146ms/step\n"
          ]
        },
        {
          "output_type": "execute_result",
          "data": {
            "text/plain": [
              "array([[12.539217]], dtype=float32)"
            ]
          },
          "metadata": {},
          "execution_count": 30
        }
      ]
    },
    {
      "cell_type": "code",
      "source": [
        "loaded_model_h5.summary()"
      ],
      "metadata": {
        "colab": {
          "base_uri": "https://localhost:8080/"
        },
        "id": "6PtOV0mCbstp",
        "outputId": "f50812a7-2adb-4a34-ac50-06c042bd2ca8"
      },
      "execution_count": null,
      "outputs": [
        {
          "output_type": "stream",
          "name": "stdout",
          "text": [
            "Model: \"sequential_2\"\n",
            "_________________________________________________________________\n",
            " Layer (type)                Output Shape              Param #   \n",
            "=================================================================\n",
            " dense_5 (Dense)             (None, 500)               1000      \n",
            "                                                                 \n",
            " dense_6 (Dense)             (None, 100)               50100     \n",
            "                                                                 \n",
            " dense_7 (Dense)             (None, 100)               10100     \n",
            "                                                                 \n",
            " dense_8 (Dense)             (None, 1)                 101       \n",
            "                                                                 \n",
            "=================================================================\n",
            "Total params: 61301 (239.46 KB)\n",
            "Trainable params: 61301 (239.46 KB)\n",
            "Non-trainable params: 0 (0.00 Byte)\n",
            "_________________________________________________________________\n"
          ]
        }
      ]
    },
    {
      "cell_type": "markdown",
      "source": [
        "## Download a model (or any other file) from Google Colab\n",
        "\n",
        "If you want to download your files from google colab:\n",
        "1. You can go to the \"files\" tab and right click on the file and click download.\n",
        "\n",
        "2. Use code (see the cell below).\n",
        "\n",
        "3. Save it to google drive by connecting it to google drive and copying it there (see second cell below)"
      ],
      "metadata": {
        "id": "QeYbKQBrcETf"
      }
    },
    {
      "cell_type": "code",
      "source": [
        "# Download a file from google colab\n",
        "\n",
        "from google.colab import files\n",
        "\n",
        "files.download(\"/content/models/model3.h5\")"
      ],
      "metadata": {
        "colab": {
          "base_uri": "https://localhost:8080/",
          "height": 17
        },
        "id": "788w7KWpcI3u",
        "outputId": "69b3f516-0fdd-4e0a-97a3-bddee7a33e47"
      },
      "execution_count": null,
      "outputs": [
        {
          "output_type": "display_data",
          "data": {
            "text/plain": [
              "<IPython.core.display.Javascript object>"
            ],
            "application/javascript": [
              "\n",
              "    async function download(id, filename, size) {\n",
              "      if (!google.colab.kernel.accessAllowed) {\n",
              "        return;\n",
              "      }\n",
              "      const div = document.createElement('div');\n",
              "      const label = document.createElement('label');\n",
              "      label.textContent = `Downloading \"${filename}\": `;\n",
              "      div.appendChild(label);\n",
              "      const progress = document.createElement('progress');\n",
              "      progress.max = size;\n",
              "      div.appendChild(progress);\n",
              "      document.body.appendChild(div);\n",
              "\n",
              "      const buffers = [];\n",
              "      let downloaded = 0;\n",
              "\n",
              "      const channel = await google.colab.kernel.comms.open(id);\n",
              "      // Send a message to notify the kernel that we're ready.\n",
              "      channel.send({})\n",
              "\n",
              "      for await (const message of channel.messages) {\n",
              "        // Send a message to notify the kernel that we're ready.\n",
              "        channel.send({})\n",
              "        if (message.buffers) {\n",
              "          for (const buffer of message.buffers) {\n",
              "            buffers.push(buffer);\n",
              "            downloaded += buffer.byteLength;\n",
              "            progress.value = downloaded;\n",
              "          }\n",
              "        }\n",
              "      }\n",
              "      const blob = new Blob(buffers, {type: 'application/binary'});\n",
              "      const a = document.createElement('a');\n",
              "      a.href = window.URL.createObjectURL(blob);\n",
              "      a.download = filename;\n",
              "      div.appendChild(a);\n",
              "      a.click();\n",
              "      div.remove();\n",
              "    }\n",
              "  "
            ]
          },
          "metadata": {}
        },
        {
          "output_type": "display_data",
          "data": {
            "text/plain": [
              "<IPython.core.display.Javascript object>"
            ],
            "application/javascript": [
              "download(\"download_23cf7ea8-10dc-4c8a-bfef-ca58cb857943\", \"model3.h5\", 776744)"
            ]
          },
          "metadata": {}
        }
      ]
    },
    {
      "cell_type": "code",
      "source": [
        "# Save a file from google colab to google drive (requires mounting Google Drive)\n",
        "\n",
        "!cp /content/models/model3.h5 /content/drive/MyDrive/colab_notebooks/TestModels"
      ],
      "metadata": {
        "id": "3NSc4MledJj9"
      },
      "execution_count": null,
      "outputs": []
    },
    {
      "cell_type": "code",
      "source": [
        "!ls /content/drive/MyDrive/colab_notebooks/TestModels"
      ],
      "metadata": {
        "colab": {
          "base_uri": "https://localhost:8080/"
        },
        "id": "dtiGoTcmd0EB",
        "outputId": "1994fb20-ce91-44d9-f35e-5ba68afe6385"
      },
      "execution_count": null,
      "outputs": [
        {
          "output_type": "stream",
          "name": "stdout",
          "text": [
            "model3.h5\n"
          ]
        }
      ]
    }
  ]
}